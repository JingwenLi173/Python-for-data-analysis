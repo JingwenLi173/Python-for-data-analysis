{
  "nbformat": 4,
  "nbformat_minor": 0,
  "metadata": {
    "colab": {
      "name": "LOOCV_and_ROC.py",
      "provenance": [],
      "collapsed_sections": [],
      "authorship_tag": "ABX9TyPwsRGxiqOARuVlZGtgYevU",
      "include_colab_link": true
    },
    "kernelspec": {
      "name": "python3",
      "display_name": "Python 3"
    },
    "language_info": {
      "name": "python"
    }
  },
  "cells": [
    {
      "cell_type": "markdown",
      "metadata": {
        "id": "view-in-github",
        "colab_type": "text"
      },
      "source": [
        "<a href=\"https://colab.research.google.com/github/JingwenLi173/Python-for-data-analysis/blob/main/LOOCV_and_ROC_py.ipynb\" target=\"_parent\"><img src=\"https://colab.research.google.com/assets/colab-badge.svg\" alt=\"Open In Colab\"/></a>"
      ]
    },
    {
      "cell_type": "code",
      "execution_count": 7,
      "metadata": {
        "colab": {
          "base_uri": "https://localhost:8080/"
        },
        "id": "9Zl0Et637dTI",
        "outputId": "730111f7-f18d-43c4-8414-2cf399cbbd50"
      },
      "outputs": [
        {
          "output_type": "stream",
          "name": "stdout",
          "text": [
            "(150, 4)\n",
            "(150,)\n"
          ]
        }
      ],
      "source": [
        "import numpy as np\n",
        "from sklearn.ensemble import AdaBoostClassifier\n",
        "from sklearn.tree import DecisionTreeClassifier\n",
        "from sklearn.model_selection import LeaveOneOut \n",
        "from sklearn import  datasets\n",
        "\n",
        "# load data\n",
        "iris = datasets.load_iris()\n",
        "X = iris.data\n",
        "y = iris.target\n",
        "print(X.shape)\n",
        "print(y.shape)\n",
        "# print(X,'\\n',y)\n"
      ]
    },
    {
      "cell_type": "code",
      "source": [
        "# keep only two classes\n",
        "X, y = X[y != 2], y[y != 2]\n",
        "print(X.shape)\n",
        "print(y.shape)\n",
        "# print(X,'\\n',y)\n"
      ],
      "metadata": {
        "colab": {
          "base_uri": "https://localhost:8080/"
        },
        "id": "y0HpUvfo7rE9",
        "outputId": "36f26357-3cce-4a13-c499-eee61a0e47b0"
      },
      "execution_count": 8,
      "outputs": [
        {
          "output_type": "stream",
          "name": "stdout",
          "text": [
            "(100, 4)\n",
            "(100,)\n"
          ]
        }
      ]
    },
    {
      "cell_type": "code",
      "source": [
        "loo = LeaveOneOut()\n",
        "loo.get_n_splits(X)\n",
        "print(\"cross validation：\",loo.get_n_splits(X))\n",
        "\n",
        "y_pred = []\n",
        "for train_index, test_index in loo.split(X):\n",
        "    #print(\"train:\", train_index, \"TEST:\", test_index) \n",
        "    X_train, X_test = X[train_index], X[test_index]\n",
        "    y_train, y_test = y[train_index], y[test_index]\n",
        "    #print(X_train, X_test, y_train, y_test)\n",
        "    \n",
        "    # train model\n",
        "    model_bdt = AdaBoostClassifier(DecisionTreeClassifier(max_depth = 2), algorithm = \"SAMME\", n_estimators = 10)\n",
        "    model_bdt.fit(X_train, y_train)\n",
        "   \n",
        "    # prediction\n",
        "    x_test_pred = model_bdt.predict(X_test)\n",
        "    \n",
        "    # print(x_test_pred)\n",
        "    y_pred.append(x_test_pred) # add prediction into table\n",
        "  \n"
      ],
      "metadata": {
        "colab": {
          "base_uri": "https://localhost:8080/"
        },
        "id": "sLKkPNgd8YlV",
        "outputId": "bb7f3efd-6dad-4e9b-e77d-ed0225e728f3"
      },
      "execution_count": 22,
      "outputs": [
        {
          "output_type": "stream",
          "name": "stdout",
          "text": [
            "cross validation： 100\n"
          ]
        }
      ]
    },
    {
      "cell_type": "code",
      "source": [
        "from sklearn.metrics import roc_curve, auc\n",
        "\n",
        "y_pred = np.array(y_pred) # list to array\n",
        "print(y_pred.shape)\n",
        "fpr, tpr, threshold = roc_curve(y, y_pred)  # calculate false pos rate and true pos rate\n",
        "print(roc_curve(y, y_pred))\n",
        "print(fpr, tpr, threshold)\n",
        "roc_auc = auc(fpr, tpr)  # accuracy\n",
        "print(roc_auc)\n"
      ],
      "metadata": {
        "colab": {
          "base_uri": "https://localhost:8080/"
        },
        "id": "u5m6C6zO9B2w",
        "outputId": "a8bc0ca6-3627-4d0e-c527-9bbe25bb0e91"
      },
      "execution_count": 23,
      "outputs": [
        {
          "output_type": "stream",
          "name": "stdout",
          "text": [
            "(100, 1)\n",
            "(array([0., 0., 1.]), array([0., 1., 1.]), array([2, 1, 0]))\n",
            "[0. 0. 1.] [0. 1. 1.] [2 1 0]\n",
            "1.0\n"
          ]
        }
      ]
    },
    {
      "cell_type": "code",
      "source": [
        "import matplotlib.pyplot as plt\n",
        "lw = 2 # line width\n",
        "plt.figure(figsize=(8, 5))\n",
        "plt.plot(fpr, tpr, color='darkorange',\n",
        "         lw=lw, label='ROC curve (area = %0.2f)' % roc_auc)  ###false pos rate = x，true pos rate = y\n",
        "plt.plot([0, 1], [0, 1], color='navy', lw=lw, linestyle='--')\n",
        "plt.xlim([0.0, 1.0])\n",
        "plt.ylim([0.0, 1.05])\n",
        "plt.xlabel('False Positive Rate')\n",
        "plt.ylabel('True Positive Rate')\n",
        "plt.title('Receiver operating characteristic example')\n",
        "plt.legend(loc=\"lower right\")\n",
        "plt.savefig('loocv.png',dpi=600) # save image\n",
        "plt.show()"
      ],
      "metadata": {
        "colab": {
          "base_uri": "https://localhost:8080/",
          "height": 350
        },
        "id": "yyHlkviYANH7",
        "outputId": "ec4a0646-419a-4d5f-eb62-550ba37ba318"
      },
      "execution_count": 24,
      "outputs": [
        {
          "output_type": "display_data",
          "data": {
            "image/png": "[encoded data removed]",
            "text/plain": [
              "<Figure size 576x360 with 1 Axes>"
            ]
          },
          "metadata": {
            "needs_background": "light"
          }
        }
      ]
    }
  ]
}